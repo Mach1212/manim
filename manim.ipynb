{
    "cells": [
        {
            "cell_type": "code",
            "execution_count": null,
            "id": "336789a9",
            "metadata": {
                "trusted": true
            },
            "outputs": [],
            "source": "!su - -c \"echo hi\"\n# !pip install manim\n# !pip install IPython --upgrade"
        },
        {
            "cell_type": "code",
            "execution_count": 7,
            "id": "3837109d",
            "metadata": {
                "trusted": false
            },
            "outputs": [
                {
                    "ename": "ModuleNotFoundError",
                    "evalue": "No module named 'manim'",
                    "output_type": "error",
                    "traceback": [
                        "\u001b[0;31m---------------------------------------------------------------------------\u001b[0m",
                        "\u001b[0;31mModuleNotFoundError\u001b[0m                       Traceback (most recent call last)",
                        "Cell \u001b[0;32mIn[7], line 1\u001b[0m\n\u001b[0;32m----> 1\u001b[0m \u001b[38;5;28;01mfrom\u001b[39;00m \u001b[38;5;21;01mmanim\u001b[39;00m \u001b[38;5;28;01mimport\u001b[39;00m \u001b[38;5;241m*\u001b[39m\n",
                        "\u001b[0;31mModuleNotFoundError\u001b[0m: No module named 'manim'"
                    ]
                }
            ],
            "source": "from manim import *"
        },
        {
            "cell_type": "code",
            "execution_count": null,
            "id": "f3ac0c27",
            "metadata": {
                "trusted": false
            },
            "outputs": [],
            "source": ""
        }
    ],
    "metadata": {
        "kernelspec": {
            "display_name": "Python 3 (ipykernel)",
            "language": "python",
            "name": "python3"
        },
        "language_info": {
            "codemirror_mode": {
                "name": "ipython",
                "version": 3
            },
            "file_extension": ".py",
            "mimetype": "text/x-python",
            "name": "python",
            "nbconvert_exporter": "python",
            "pygments_lexer": "ipython3",
            "version": "3.11.7"
        }
    },
    "nbformat": 4,
    "nbformat_minor": 5
}